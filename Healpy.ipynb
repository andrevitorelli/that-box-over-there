{
 "cells": [
  {
   "cell_type": "markdown",
   "id": "f1f49f67-c767-4855-9938-8f4870b6f318",
   "metadata": {},
   "source": [
    "# Healpy Exercises"
   ]
  },
  {
   "cell_type": "code",
   "execution_count": 1,
   "id": "10f64c1e-e0fa-4e63-8dae-6eb94b6318d7",
   "metadata": {},
   "outputs": [
    {
     "name": "stdout",
     "output_type": "stream",
     "text": [
      "Populating the interactive namespace from numpy and matplotlib\n"
     ]
    }
   ],
   "source": [
    "%pylab inline"
   ]
  },
  {
   "cell_type": "code",
   "execution_count": 2,
   "id": "149eec10-65c3-44a5-af8d-540ea1547ce1",
   "metadata": {},
   "outputs": [],
   "source": [
    "import h5py\n",
    "import os\n",
    "from astropy.coordinates import SkyCoord\n",
    "import healpy as hp\n",
    "import numpy as np"
   ]
  },
  {
   "cell_type": "markdown",
   "id": "a934efc0-8aa1-4752-a91c-99faf9d5874b",
   "metadata": {},
   "source": [
    "## Making a map out of a large HDF5 Catalogue"
   ]
  },
  {
   "cell_type": "code",
   "execution_count": null,
   "id": "f4b034fd-51f0-4ab2-9af4-5287354db4e8",
   "metadata": {},
   "outputs": [],
   "source": [
    "datadir = os.path.expanduser(\"~/DATA\")"
   ]
  },
  {
   "cell_type": "code",
   "execution_count": null,
   "id": "03ec3667-3045-489d-85a2-d58859a487a4",
   "metadata": {},
   "outputs": [],
   "source": [
    "mcalf = \"DESY3_metacal_v03-004.h5\"\n",
    "goldf = \"DESY3_GOLD_2_2.1.h5\""
   ]
  },
  {
   "cell_type": "code",
   "execution_count": null,
   "id": "a1f6dbb8-f55f-47d0-83bf-18df029fd8a3",
   "metadata": {},
   "outputs": [],
   "source": [
    "mcal=h5py.File(datadir+ \"/\" +mcalf)\n",
    "gold=h5py.File(datadir+ \"/\" +goldf)"
   ]
  },
  {
   "cell_type": "code",
   "execution_count": null,
   "id": "546d3f86-5569-4725-a9c5-01314b0c64ed",
   "metadata": {},
   "outputs": [],
   "source": [
    "def cat2hpx(lon, lat, nside, radec=True):\n",
    "    \"\"\"\n",
    "    Convert a catalogue to a HEALPix map of number counts per resolution\n",
    "    element.\n",
    "\n",
    "    Parameters\n",
    "    ----------\n",
    "    lon, lat : (ndarray, ndarray)\n",
    "        Coordinates of the sources in degree. If radec=True, assume input is in the icrs\n",
    "        coordinate system. Otherwise assume input is glon, glat\n",
    "\n",
    "    nside : int\n",
    "        HEALPix nside of the target map\n",
    "\n",
    "    radec : bool\n",
    "        Switch between R.A./Dec and glon/glat as input coordinate system.\n",
    "\n",
    "    Return\n",
    "    ------\n",
    "    hpx_map : ndarray\n",
    "        HEALPix map of the catalogue number counts in Galactic coordinates\n",
    "\n",
    "    \"\"\"\n",
    "\n",
    "    npix = hp.nside2npix(nside)\n",
    "\n",
    "    if radec:\n",
    "        eq = SkyCoord(lon, lat, unit='deg')\n",
    "        l, b = eq.galactic.l.value, eq.galactic.b.value\n",
    "    else:\n",
    "        l, b = lon, lat\n",
    "\n",
    "    # conver to theta, phi\n",
    "    theta = np.radians(90. - b)\n",
    "    phi = np.radians(l)\n",
    "\n",
    "    # convert to HEALPix indices\n",
    "    indices = hp.ang2pix(nside, theta, phi)\n",
    "\n",
    "    idx, counts = np.unique(indices, return_counts=True)\n",
    "\n",
    "    # fill the fullsky map\n",
    "    hpx_map = np.zeros(npix, dtype=int)\n",
    "    hpx_map[idx] = counts\n",
    "\n",
    "    return hpx_map"
   ]
  },
  {
   "cell_type": "code",
   "execution_count": null,
   "id": "601387f8-8485-4df8-928d-22632686a423",
   "metadata": {},
   "outputs": [],
   "source": [
    "indexes=np.arange(gold['catalog']['gold']['ra'].len())\n",
    "idx_chunks = np.array_split(indexes,10000)"
   ]
  },
  {
   "cell_type": "code",
   "execution_count": null,
   "id": "b984f6a6-9ab2-480f-98db-683abd1aa5d7",
   "metadata": {},
   "outputs": [],
   "source": [
    "import gc\n",
    "import tqdm\n",
    "nside=256\n",
    "npix = hp.nside2npix(nside)\n",
    "fullmap = np.zeros(npix)\n",
    "for idx_chunk in tqdm.tqdm(idx_chunks):\n",
    "  chunk = gold['catalog']['gold']['ra'][idx_chunk], gold['catalog']['gold']['dec'][idx_chunk]\n",
    "  fullmap+=cat2hpx(chunk[0],chunk[1],nside,True)\n",
    "  del chunk\n",
    "  gc.collect() "
   ]
  },
  {
   "cell_type": "code",
   "execution_count": null,
   "id": "75dc9847-1686-4f06-aa60-e2d14a5ca9dd",
   "metadata": {},
   "outputs": [],
   "source": [
    "hp.mollview(fullmap)"
   ]
  }
 ],
 "metadata": {
  "kernelspec": {
   "display_name": "Python 3",
   "language": "python",
   "name": "python3"
  },
  "language_info": {
   "codemirror_mode": {
    "name": "ipython",
    "version": 3
   },
   "file_extension": ".py",
   "mimetype": "text/x-python",
   "name": "python",
   "nbconvert_exporter": "python",
   "pygments_lexer": "ipython3",
   "version": "3.7.13"
  }
 },
 "nbformat": 4,
 "nbformat_minor": 5
}
