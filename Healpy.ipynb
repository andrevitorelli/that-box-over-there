{
 "cells": [
  {
   "cell_type": "markdown",
   "id": "f1f49f67-c767-4855-9938-8f4870b6f318",
   "metadata": {},
   "source": [
    "# Healpy Exercises"
   ]
  },
  {
   "cell_type": "code",
   "execution_count": 1,
   "id": "10f64c1e-e0fa-4e63-8dae-6eb94b6318d7",
   "metadata": {
    "tags": []
   },
   "outputs": [
    {
     "name": "stdout",
     "output_type": "stream",
     "text": [
      "%pylab is deprecated, use %matplotlib inline and import the required libraries.\n",
      "Populating the interactive namespace from numpy and matplotlib\n"
     ]
    }
   ],
   "source": [
    "%pylab inline"
   ]
  },
  {
   "cell_type": "code",
   "execution_count": 2,
   "id": "149eec10-65c3-44a5-af8d-540ea1547ce1",
   "metadata": {
    "tags": []
   },
   "outputs": [],
   "source": [
    "import h5py\n",
    "import os\n",
    "from astropy.coordinates import SkyCoord\n",
    "import healpy as hp\n",
    "import numpy as np"
   ]
  },
  {
   "cell_type": "markdown",
   "id": "a934efc0-8aa1-4752-a91c-99faf9d5874b",
   "metadata": {},
   "source": [
    "## Making a map out of a Catalogue"
   ]
  },
  {
   "cell_type": "code",
   "execution_count": null,
   "id": "f91c5670-3d64-4e60-814b-085dbf75f840",
   "metadata": {},
   "outputs": [],
   "source": []
  },
  {
   "cell_type": "code",
   "execution_count": null,
   "id": "546d3f86-5569-4725-a9c5-01314b0c64ed",
   "metadata": {},
   "outputs": [],
   "source": [
    "def cat2hpx(lon, lat, nside, radec=True,values=None):\n",
    "    \"\"\"\n",
    "    Convert a catalogue to a HEALPix map of either number counts per pixel\n",
    "    or a mean of quantities per pixel.\n",
    "    element.\n",
    "\n",
    "    Parameters\n",
    "    ----------\n",
    "    lon, lat : (ndarray, ndarray)\n",
    "        Coordinates of the sources in degree. If radec=True, assume input is in the icrs\n",
    "        coordinate system. Otherwise assume input is glon, glat\n",
    "\n",
    "    nside : int\n",
    "        HEALPix nside of the target map\n",
    "\n",
    "    radec : bool\n",
    "        Switch between R.A./Dec and glon/glat as input coordinate system.\n",
    "    values: ndarray\n",
    "        A table of values of some quantity matching objects at lon, lat\n",
    "\n",
    "    Return\n",
    "    ------\n",
    "    hpx_map : ndarray\n",
    "        HEALPix map of the catalog counts or mean quantities\n",
    "\n",
    "    \"\"\"\n",
    "\n",
    "    npix = hp.nside2npix(nside)\n",
    "\n",
    "    if radec:\n",
    "        eq = SkyCoord(lon, lat, unit='deg')\n",
    "        l, b = eq.galactic.l.value, eq.galactic.b.value\n",
    "    else:\n",
    "        l, b = lon, lat\n",
    "\n",
    "    # conver to theta, phi\n",
    "    theta = np.radians(90. - b)\n",
    "    phi = np.radians(l)\n",
    "\n",
    "    # convert to HEALPix indices\n",
    "    indices = hp.ang2pix(nside, theta, phi)\n",
    "\n",
    "    idx, counts = np.unique(indices, return_counts=True)\n",
    "    \n",
    "    \n",
    "    # fill the fullsky map\n",
    "    if values is not None:\n",
    "        arr =  np.array([indices,values]).T\n",
    "        arr = arr[arr[:,0].argsort()]\n",
    "        \n",
    "        hpx_map = np.empty(npix)\n",
    "        hpx_map[:] = np.nan\n",
    "       \n",
    "        for index in tqdm.tqdm(idx):\n",
    "            hpx_map[index] = arr[arr[:,0]==index,:][:,1].mean()\n",
    "            \n",
    "    else:\n",
    "        hpx_map = np.zeros(npix, dtype=int)\n",
    "        hpx_map[idx] = counts\n",
    "\n",
    "    return hpx_map"
   ]
  },
  {
   "cell_type": "markdown",
   "id": "7481c82e-e73f-4792-af9a-922441b5f80f",
   "metadata": {},
   "source": [
    "## Healpix nside to $\\ell$"
   ]
  },
  {
   "cell_type": "code",
   "execution_count": null,
   "id": "0b46c303-7c6d-44cd-b9c0-18b6ed65b0b1",
   "metadata": {},
   "outputs": [],
   "source": [
    "def nside2ell(nside):\n",
    "    return 180/np.degrees(np.sqrt(hp.nside2pixarea(nside)))"
   ]
  }
 ],
 "metadata": {
  "kernelspec": {
   "display_name": "Python 3 (ipykernel)",
   "language": "python",
   "name": "python3"
  },
  "language_info": {
   "codemirror_mode": {
    "name": "ipython",
    "version": 3
   },
   "file_extension": ".py",
   "mimetype": "text/x-python",
   "name": "python",
   "nbconvert_exporter": "python",
   "pygments_lexer": "ipython3",
   "version": "3.9.13"
  }
 },
 "nbformat": 4,
 "nbformat_minor": 5
}
