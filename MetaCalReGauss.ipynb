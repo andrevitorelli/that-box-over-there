{
 "cells": [
  {
   "cell_type": "markdown",
   "id": "f5c551df-ac95-4036-b32c-98cd78feef33",
   "metadata": {},
   "source": [
    "# HSM + NGMIX"
   ]
  },
  {
   "cell_type": "code",
   "execution_count": 1,
   "id": "4e72be48-ec34-436d-9fa7-ff1d2381ee70",
   "metadata": {},
   "outputs": [
    {
     "name": "stdout",
     "output_type": "stream",
     "text": [
      "Populating the interactive namespace from numpy and matplotlib\n"
     ]
    }
   ],
   "source": [
    "%pylab inline"
   ]
  },
  {
   "cell_type": "code",
   "execution_count": 2,
   "id": "bfb564f5-41c7-4f71-aaac-ecfb61480bbc",
   "metadata": {},
   "outputs": [],
   "source": [
    "import galsim\n",
    "import ngmix"
   ]
  },
  {
   "cell_type": "code",
   "execution_count": 3,
   "id": "b320b2cd-6d90-4d30-8bfa-591afee2e82a",
   "metadata": {},
   "outputs": [],
   "source": [
    "stamp_size = 51\n",
    "pixel_scale = .2\n",
    "psf_fwhm = 0.7\n",
    "gal_hlr = 0.5\n",
    "flux = 1.\n",
    "noise_level = 1e-3\n",
    "intrinsic_shape = [0.3,-0.1]"
   ]
  },
  {
   "cell_type": "markdown",
   "id": "514f2cc8-8425-405c-a9e0-83d9adb73155",
   "metadata": {},
   "source": [
    "## Make a galaxy"
   ]
  },
  {
   "cell_type": "code",
   "execution_count": 4,
   "id": "b24f2f02-6974-42f9-84e2-8e62e2cd7efc",
   "metadata": {},
   "outputs": [],
   "source": [
    "gal=galsim.Exponential(half_light_radius=gal_hlr).shear(\n",
    "  g1=intrinsic_shape[0],\n",
    "  g2=intrinsic_shape[1])\n",
    "psf = galsim.Kolmogorov(psf_fwhm)\n",
    "\n",
    "obs = galsim.Convolve([gal,psf]).shear(g1 = 0.01, g2 = -0.02)\n",
    "\n",
    "obs_img = obs.drawImage(\n",
    "  nx = stamp_size,\n",
    "  ny = stamp_size,\n",
    "  method = 'auto',\n",
    "  scale = pixel_scale,\n",
    ")\n",
    "\n",
    "obs_array = obs_img.array + noise_level*np.random.normal(size=[stamp_size,stamp_size])\n",
    "\n",
    "psf_array = psf.drawImage(\n",
    "  nx = stamp_size,\n",
    "  ny = stamp_size,\n",
    "  method = 'auto',\n",
    "  scale = pixel_scale,\n",
    ").array + + noise_level/10*np.random.normal(size=[stamp_size,stamp_size])\n",
    "\n",
    "weight_array = np.ones([stamp_size,stamp_size])*noise_level**-2"
   ]
  },
  {
   "cell_type": "code",
   "execution_count": 5,
   "id": "b03501fe-5d17-47bd-a7f3-c3920efaa00d",
   "metadata": {},
   "outputs": [
    {
     "data": {
      "text/plain": [
       "<matplotlib.image.AxesImage at 0x7fe0f5732ed0>"
      ]
     },
     "execution_count": 5,
     "metadata": {},
     "output_type": "execute_result"
    },
    {
     "data": {
      "image/png": "[encoded data removed]",
      "text/plain": [
       "<Figure size 640x480 with 1 Axes>"
      ]
     },
     "metadata": {},
     "output_type": "display_data"
    }
   ],
   "source": [
    "imshow(obs_array)"
   ]
  },
  {
   "cell_type": "markdown",
   "id": "6f38ec59-cf95-4830-b86a-798dba69d34f",
   "metadata": {},
   "source": [
    "## Measure galaxy w/ Re-Gaussianisation"
   ]
  },
  {
   "cell_type": "code",
   "execution_count": 6,
   "id": "449a7d21-fdf4-40e6-bdb9-f54266a24644",
   "metadata": {},
   "outputs": [],
   "source": [
    "obs_shape=galsim.hsm.EstimateShear(\n",
    "  galsim.Image(obs_array,scale=pixel_scale),\n",
    "  galsim.Image(psf_array,scale=pixel_scale),\n",
    "  galsim.Image(weight_array,scale=pixel_scale),\n",
    "  shear_est='REGAUSS'\n",
    ")"
   ]
  },
  {
   "cell_type": "code",
   "execution_count": 7,
   "id": "2b969908-3642-4e64-8088-61c78d0f6a60",
   "metadata": {},
   "outputs": [
    {
     "name": "stdout",
     "output_type": "stream",
     "text": [
      "True:    0.3000, -0.1000\n",
      "ReGauss: 0.3057, -0.1140\n"
     ]
    }
   ],
   "source": [
    "g1,g2=ngmix.shape.e1e2_to_g1g2(obs_shape.corrected_e1, obs_shape.corrected_e2)\n",
    "\n",
    "print(f\"True:    {intrinsic_shape[0]:.4f}, {intrinsic_shape[1]:.4f}\")\n",
    "print(f\"ReGauss: {g1:.4f}, {g2:.4f}\")"
   ]
  },
  {
   "cell_type": "markdown",
   "id": "7c17b4d2-517a-462e-b9bd-d7468e48feb2",
   "metadata": {},
   "source": [
    "## Metacal"
   ]
  },
  {
   "cell_type": "markdown",
   "id": "dc6e6abb-679b-48d2-b2b4-5f2d7aa55398",
   "metadata": {},
   "source": [
    "Find centers"
   ]
  },
  {
   "cell_type": "code",
   "execution_count": 8,
   "id": "8e77f073-a544-4ff6-96fe-05e1a68e7ce5",
   "metadata": {},
   "outputs": [],
   "source": [
    "obs_cen = (array(obs_array.shape))//2\n",
    "psf_cen = (array(psf_array.shape))//2"
   ]
  },
  {
   "cell_type": "markdown",
   "id": "eb850300-8608-42de-9ee9-02e3478e612a",
   "metadata": {},
   "source": [
    "WARNING! Create the correct jacobian from your WCS!"
   ]
  },
  {
   "cell_type": "code",
   "execution_count": 9,
   "id": "8ed756b3-2670-4203-ae83-25fd7d3a9b2e",
   "metadata": {},
   "outputs": [],
   "source": [
    "jacobian = ngmix.DiagonalJacobian(\n",
    "    row=obs_cen[0], col=obs_cen[1], scale=pixel_scale,\n",
    ")\n",
    "psf_jacobian = ngmix.DiagonalJacobian(\n",
    "    row=psf_cen[0], col=psf_cen[1], scale=pixel_scale,\n",
    ")"
   ]
  },
  {
   "cell_type": "markdown",
   "id": "d9707eae-19fe-43e5-b908-8588eada11a4",
   "metadata": {},
   "source": [
    "Get weight image from pixel variance"
   ]
  },
  {
   "cell_type": "code",
   "execution_count": 10,
   "id": "ab9afeed-4fb1-4203-adac-bc3a604c6acd",
   "metadata": {},
   "outputs": [],
   "source": [
    "wt = obs_array*0 + 1.0/noise_level**2\n",
    "psf_wt = psf_array*0 + 1.0/(noise_level/10)**2"
   ]
  },
  {
   "cell_type": "markdown",
   "id": "75b4cd1d-a5bf-4765-9b02-9091a2494525",
   "metadata": {},
   "source": [
    "Make observations"
   ]
  },
  {
   "cell_type": "code",
   "execution_count": 11,
   "id": "5ba2c1e1-f725-4062-b4a0-0f507b0adade",
   "metadata": {},
   "outputs": [],
   "source": [
    "psf_obs = ngmix.Observation(\n",
    "    psf_array,\n",
    "    weight=psf_wt,\n",
    "    jacobian=psf_jacobian,\n",
    ")\n",
    "\n",
    "obs = ngmix.Observation(\n",
    "    obs_array,\n",
    "    weight=wt,\n",
    "    jacobian=jacobian,\n",
    "    psf=psf_obs,\n",
    ")"
   ]
  },
  {
   "cell_type": "markdown",
   "id": "21c85093-443f-459d-b621-9153d24f1b6a",
   "metadata": {},
   "source": [
    "We will run NGMIX to create the sheared stamps, but since we want to use HSM, we will get the sheared stamps from the resulting obsdict."
   ]
  },
  {
   "cell_type": "code",
   "execution_count": 13,
   "id": "f035bc6e-a2bc-4434-ba45-162047cda8af",
   "metadata": {},
   "outputs": [],
   "source": [
    "rng = numpy.random.RandomState()\n",
    "obsdict  = ngmix.metacal.get_all_metacal(obs,psf='dilate',rng=rng)"
   ]
  },
  {
   "cell_type": "code",
   "execution_count": 14,
   "id": "79efd548-aafa-4b20-9351-e208f232224a",
   "metadata": {},
   "outputs": [],
   "source": [
    "resdict = {x:None for x in obsdict.keys()}\n",
    "for key in obsdict.keys():\n",
    "  obs_img = galsim.Image(obsdict[key].image,scale=pixel_scale)\n",
    "  psf_img = galsim.Image(obsdict[key].psf.image,scale=pixel_scale)\n",
    "  \n",
    "  shape = galsim.hsm.EstimateShear(\n",
    "    obs_img,\n",
    "    psf_img,\n",
    "    galsim.Image(weight_array,scale=pixel_scale),\n",
    "    shear_est='REGAUSS'  \n",
    "  )\n",
    "  e1, e2 = shape.corrected_e1,shape.corrected_e2\n",
    "   \n",
    "  resdict.update({key: {'e':[e1,e2]}})\n",
    "  "
   ]
  },
  {
   "cell_type": "markdown",
   "id": "75c39bda-b8cf-4d14-ac59-8a891fb7aa59",
   "metadata": {},
   "source": [
    "Get shear responses"
   ]
  },
  {
   "cell_type": "code",
   "execution_count": 15,
   "id": "fe80f1a3-4f40-48fd-b8e0-ddde893ebf55",
   "metadata": {},
   "outputs": [],
   "source": [
    "def get_metacal_response_ngmix(resdict,shear_type = 'e'):\n",
    "  '''gets the shear response for ngmix results'''\n",
    "  step=0.01\n",
    " \n",
    "  #noshear\n",
    "  g0s = np.array(resdict['noshear'][shear_type])\n",
    "  \n",
    "  #shear\n",
    "  g1p = np.array(resdict['1p'][shear_type])\n",
    "  g1m = np.array(resdict['1m'][shear_type])\n",
    "  g2p = np.array(resdict['2p'][shear_type])\n",
    "  g2m = np.array(resdict['2m'][shear_type])    \n",
    "  \n",
    "  R11 = (g1p[0]-g1m[0])/(2*step)\n",
    "  R21 = (g1p[1]-g1m[1])/(2*step) \n",
    "  R12 = (g2p[0]-g2m[0])/(2*step)\n",
    "  R22 = (g2p[1]-g2m[1])/(2*step)\n",
    "  \n",
    "  R = np.array(\n",
    "    [[R11,R12],\n",
    "     [R21,R22]])\n",
    "\n",
    "  ellip_dict = {\n",
    "    'noshear':g0s,\n",
    "    '1p':g1p,\n",
    "    '1m':g1m,\n",
    "    '2p':g2p,\n",
    "    '2m':g2m,  \n",
    "  } \n",
    "      \n",
    "  return ellip_dict, R"
   ]
  },
  {
   "cell_type": "code",
   "execution_count": 16,
   "id": "2bda7ab1-aa02-4e86-aa70-5626dd4f6c3c",
   "metadata": {},
   "outputs": [],
   "source": [
    "ellip_dict, R = get_metacal_response_ngmix(resdict)"
   ]
  },
  {
   "cell_type": "code",
   "execution_count": 17,
   "id": "e05fbbb1-efa5-4c32-8318-87a73104e9f9",
   "metadata": {},
   "outputs": [],
   "source": [
    "e = ellip_dict['noshear'] @ np.linalg.inv(R) "
   ]
  },
  {
   "cell_type": "code",
   "execution_count": 18,
   "id": "6753cb56-a399-4590-8766-0ea930dc2794",
   "metadata": {},
   "outputs": [],
   "source": [
    "g = ngmix.shape.e1e2_to_g1g2(e[0],e[1])"
   ]
  },
  {
   "cell_type": "code",
   "execution_count": 19,
   "id": "21c4eee0-3d37-4700-92f4-2f0de201b2a6",
   "metadata": {},
   "outputs": [
    {
     "name": "stdout",
     "output_type": "stream",
     "text": [
      "True:                   0.3000, -0.1000\n",
      "ReGauss:                0.3057, -0.1140\n",
      "Metacalibrated ReGauss: 0.2979, -0.1073\n"
     ]
    }
   ],
   "source": [
    "print(f\"True:                   {intrinsic_shape[0]:.4f}, {intrinsic_shape[1]:.4f}\")\n",
    "print(f\"ReGauss:                {g1:.4f}, {g2:.4f}\")\n",
    "print(f\"Metacalibrated ReGauss: {g[0]:.4f}, {g[1]:.4f}\")"
   ]
  },
  {
   "cell_type": "code",
   "execution_count": null,
   "id": "a482ea79-f73e-425f-846f-98e4a9107d8a",
   "metadata": {},
   "outputs": [],
   "source": []
  }
 ],
 "metadata": {
  "kernelspec": {
   "display_name": "Python 3",
   "language": "python",
   "name": "python3"
  },
  "language_info": {
   "codemirror_mode": {
    "name": "ipython",
    "version": 3
   },
   "file_extension": ".py",
   "mimetype": "text/x-python",
   "name": "python",
   "nbconvert_exporter": "python",
   "pygments_lexer": "ipython3",
   "version": "3.7.13"
  }
 },
 "nbformat": 4,
 "nbformat_minor": 5
}
