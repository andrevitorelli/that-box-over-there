{
 "cells": [
  {
   "cell_type": "markdown",
   "id": "6b8f57bf-124f-4d47-939d-7c1ed67f5054",
   "metadata": {},
   "source": [
    "# Simple Convolutions"
   ]
  },
  {
   "cell_type": "code",
   "execution_count": 1,
   "id": "7992343b-3d01-4cdb-a024-717ddf04b0d5",
   "metadata": {},
   "outputs": [
    {
     "name": "stdout",
     "output_type": "stream",
     "text": [
      "Populating the interactive namespace from numpy and matplotlib\n"
     ]
    }
   ],
   "source": [
    "%pylab inline"
   ]
  },
  {
   "cell_type": "code",
   "execution_count": null,
   "id": "351d4286-5fb8-44b1-a0e1-39f9fcfa7b06",
   "metadata": {},
   "outputs": [],
   "source": [
    "import xlensing"
   ]
  },
  {
   "cell_type": "code",
   "execution_count": 2,
   "id": "e5e476f2-750a-4467-a833-357eb883bc68",
   "metadata": {},
   "outputs": [],
   "source": [
    "def x2(x):\n",
    "  return x*x"
   ]
  },
  {
   "cell_type": "code",
   "execution_count": 128,
   "id": "3055d4c7-3f63-4213-bbad-c025f8fd3fb5",
   "metadata": {},
   "outputs": [],
   "source": [
    "from scipy.integrate import simpson\n",
    "\n",
    "def unitophat(x,low,high):\n",
    "  result = np.heaviside(x-low,1)-np.heaviside(x-high,1)\n",
    "  return result/(high-low)"
   ]
  },
  {
   "cell_type": "code",
   "execution_count": 108,
   "id": "d712e5cf-e2e3-498e-8089-13050ad08f68",
   "metadata": {},
   "outputs": [],
   "source": [
    "profile = lambda r : xlensing.model.NFW_shear(1e14,4,0.3,1,.1,0,r)['NFW Signal']"
   ]
  },
  {
   "cell_type": "code",
   "execution_count": 121,
   "id": "69d2d437-e1cb-4f28-88f8-ff8d3338edc2",
   "metadata": {},
   "outputs": [
    {
     "data": {
      "text/plain": [
       "array([123.90785546])"
      ]
     },
     "execution_count": 121,
     "metadata": {},
     "output_type": "execute_result"
    }
   ],
   "source": [
    "xlensing.model.NFW_shear(1e14,4,0.3,1,.1,0,np.array([.1]))['NFW Signal']"
   ]
  },
  {
   "cell_type": "code",
   "execution_count": 112,
   "id": "6f3c3130-9dd5-4ce3-adb8-c9d6013cee8f",
   "metadata": {},
   "outputs": [],
   "source": [
    "def conv(f,g,x):\n",
    "  dt = np.diff(x)\n",
    "  return lambda t : sum(f(x[:-1])*g(x[:-1]-t)*dx)\n",
    "  "
   ]
  },
  {
   "cell_type": "code",
   "execution_count": 129,
   "id": "1075d99e-99dd-4b70-a310-d7f038b97b7c",
   "metadata": {},
   "outputs": [
    {
     "data": {
      "text/plain": [
       "array([10.,  0.,  0.,  0.,  0.,  0.,  0.,  0.,  0.,  0.,  0.,  0.,  0.,\n",
       "        0.,  0.,  0.,  0.,  0.,  0.,  0.,  0.,  0.,  0.,  0.,  0.,  0.,\n",
       "        0.,  0.,  0.,  0.,  0.,  0.,  0.,  0.,  0.,  0.,  0.,  0.,  0.,\n",
       "        0.,  0.,  0.,  0.,  0.,  0.,  0.,  0.,  0.,  0.,  0.,  0.,  0.,\n",
       "        0.,  0.,  0.,  0.,  0.,  0.,  0.,  0.,  0.,  0.,  0.,  0.,  0.,\n",
       "        0.,  0.,  0.,  0.,  0.,  0.,  0.,  0.,  0.,  0.,  0.,  0.,  0.,\n",
       "        0.,  0.,  0.,  0.,  0.,  0.,  0.,  0.,  0.,  0.,  0.,  0.,  0.,\n",
       "        0.,  0.,  0.,  0.,  0.,  0.,  0.,  0.,  0.])"
      ]
     },
     "execution_count": 129,
     "metadata": {},
     "output_type": "execute_result"
    }
   ],
   "source": [
    "unitophat(radii,.1,.2)"
   ]
  },
  {
   "cell_type": "code",
   "execution_count": 126,
   "id": "32f350b4-bf6b-49b0-a6bf-ea688fd3a4f2",
   "metadata": {},
   "outputs": [
    {
     "data": {
      "text/plain": [
       "array([29.88435054, 28.99066169, 28.13852564, 27.32533571, 26.54868995,\n",
       "       25.80637188, 25.09633338, 24.41667943, 23.76565435, 23.14162963,\n",
       "       22.54309283, 21.96863772, 21.41695533, 20.88682594, 20.37711173,\n",
       "       19.88675022, 19.41474834, 18.9601769 , 18.52216576, 18.09989928,\n",
       "       17.69261225, 17.29958614, 16.92014568, 16.55365577, 16.19951857,\n",
       "       15.85717092, 15.52608188, 15.20575058, 14.89570412, 14.59549572,\n",
       "       14.30470298, 14.02292631, 13.7497874 , 13.48492793, 13.22800822,\n",
       "       12.97870615, 12.73671599, 12.50174746, 12.27352477, 12.05178573,\n",
       "       11.83628099, 11.62677324, 11.42303655, 11.22485566, 11.03202545,\n",
       "       10.8443503 , 10.6616436 , 10.48372723, 10.31043111, 10.14159274,\n",
       "        9.97705685,  0.        ,  0.        ,  0.        ,  0.        ,\n",
       "        0.        ,  0.        ,  0.        ,  0.        ,  0.        ,\n",
       "        0.        ,  0.        ,  0.        ,  0.        ,  0.        ,\n",
       "        0.        ,  0.        ,  0.        ,  0.        ,  0.        ,\n",
       "        0.        ,  0.        ,  0.        ,  0.        ,  0.        ,\n",
       "        0.        ,  0.        ,  0.        ,  0.        ,  0.        ,\n",
       "        0.        ,  0.        ,  0.        ,  0.        ,  0.        ,\n",
       "        0.        ,  0.        ,  0.        ,  0.        ,  0.        ,\n",
       "        0.        ,  0.        ,  0.        ,  0.        ,  0.        ,\n",
       "        0.        ,  0.        ,  0.        ,  0.        ,  0.        ])"
      ]
     },
     "execution_count": 126,
     "metadata": {},
     "output_type": "execute_result"
    }
   ],
   "source": [
    "np.convolve(prof,unitophat(radii,.1,.2),'same')"
   ]
  },
  {
   "cell_type": "code",
   "execution_count": 146,
   "id": "2d9a7aed-7b80-4009-8a3e-2f7bf17a7ddb",
   "metadata": {},
   "outputs": [
    {
     "data": {
      "text/plain": [
       "<matplotlib.legend.Legend at 0x7fee3b6391d0>"
      ]
     },
     "execution_count": 146,
     "metadata": {},
     "output_type": "execute_result"
    },
    {
     "data": {
      "image/png": "[encoded data removed]",
      "text/plain": [
       "<Figure size 640x480 with 1 Axes>"
      ]
     },
     "metadata": {},
     "output_type": "display_data"
    }
   ],
   "source": [
    "radii = linspace(1e-1,1e1,10000)\n",
    "prof = profile(radii)\n",
    "loglog(radii,prof,color='black')\n",
    "conv=np.convolve(prof,unitophat(radii,.1,.2),'same')*np.diff(radii)[0]\n",
    "loglog(radii,conv,color='orange',label='bin1')\n",
    "axvspan(0.1, .2,color='orange', alpha=0.2)\n",
    "\n",
    "conv=np.convolve(prof,unitophat(radii,.2,.3),'same')\n",
    "loglog(radii,conv,color='blue')\n",
    "axvspan(0.2, .3,color='blue', alpha=0.2)\n",
    "\n",
    "conv=np.convolve(prof,unitophat(radii,.3,.4),'same')\n",
    "loglog(radii,conv,color='purple')\n",
    "axvspan(0.3, .4,color='purple', alpha=0.2)\n",
    "\n",
    "conv=np.convolve(prof,unitophat(radii,.4,.5),'same')\n",
    "loglog(radii,conv,color='green')\n",
    "axvspan(0.4, .5,color='green', alpha=0.2)\n",
    "legend()"
   ]
  },
  {
   "cell_type": "code",
   "execution_count": null,
   "id": "cc1c53a4-4daf-4909-9f3e-2156d7f61908",
   "metadata": {},
   "outputs": [],
   "source": []
  },
  {
   "cell_type": "code",
   "execution_count": null,
   "id": "1d6c6323-b422-4b82-8c18-c6a1b80e8473",
   "metadata": {},
   "outputs": [],
   "source": []
  },
  {
   "cell_type": "code",
   "execution_count": null,
   "id": "2591172e-609d-4859-b0c4-9f0587abe1a4",
   "metadata": {},
   "outputs": [],
   "source": []
  }
 ],
 "metadata": {
  "kernelspec": {
   "display_name": "Python 3",
   "language": "python",
   "name": "python3"
  },
  "language_info": {
   "codemirror_mode": {
    "name": "ipython",
    "version": 3
   },
   "file_extension": ".py",
   "mimetype": "text/x-python",
   "name": "python",
   "nbconvert_exporter": "python",
   "pygments_lexer": "ipython3",
   "version": "3.7.13"
  }
 },
 "nbformat": 4,
 "nbformat_minor": 5
}
