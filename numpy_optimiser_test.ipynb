{
 "cells": [
  {
   "cell_type": "markdown",
   "id": "860b42f8-5c05-44f2-a3a4-f227a1a59e53",
   "metadata": {},
   "source": [
    "# Numpy Optimisation"
   ]
  },
  {
   "cell_type": "code",
   "execution_count": 31,
   "id": "6740f8a4-29d5-4d30-9217-06c7f5a543d8",
   "metadata": {},
   "outputs": [
    {
     "data": {
      "text/plain": [
       "{'divide': 'ignore', 'over': 'ignore', 'under': 'ignore', 'invalid': 'ignore'}"
      ]
     },
     "execution_count": 31,
     "metadata": {},
     "output_type": "execute_result"
    }
   ],
   "source": [
    "import numpy as np\n",
    "np. seterr(all='ignore')"
   ]
  },
  {
   "cell_type": "code",
   "execution_count": 32,
   "id": "e7a01c9d-e286-4849-9aa3-0ebc80ba572c",
   "metadata": {},
   "outputs": [],
   "source": [
    "x = np.linspace(0.5,1.5,11)"
   ]
  },
  {
   "cell_type": "markdown",
   "id": "dedccf67-43d5-4e2c-85a4-c19ef1c38861",
   "metadata": {},
   "source": [
    "## Standard function form"
   ]
  },
  {
   "cell_type": "code",
   "execution_count": 33,
   "id": "5589a931-b891-4fe1-9746-532c4a488e3a",
   "metadata": {},
   "outputs": [],
   "source": [
    "def form(x):\n",
    "  if x > 1:\n",
    "    sq = np.sqrt(x**2-1)\n",
    "    result = np.arctan(sq)/sq\n",
    "  if x < 1:\n",
    "    sq = np.sqrt(1-x**2)\n",
    "    result = np.arctanh(sq)/sq\n",
    "  if x == 1:\n",
    "    result = 1  \n",
    "  return result\n",
    "    \n",
    "form = np.vectorize(form)  "
   ]
  },
  {
   "cell_type": "code",
   "execution_count": 34,
   "id": "d084140e-ec06-4a4a-b82f-4569c6996fe9",
   "metadata": {},
   "outputs": [
    {
     "data": {
      "text/plain": [
       "array([1.52069199, 1.37326536, 1.25407418, 1.1552453 , 1.07170484,\n",
       "       1.        , 0.93768155, 0.88295418, 0.83446647, 0.79117842,\n",
       "       0.75227469])"
      ]
     },
     "execution_count": 34,
     "metadata": {},
     "output_type": "execute_result"
    }
   ],
   "source": [
    "form(x)"
   ]
  },
  {
   "cell_type": "markdown",
   "id": "7f9f07df-2b19-4f3e-9339-1d03bb13b980",
   "metadata": {},
   "source": [
    "## Alternative one-liners"
   ]
  },
  {
   "cell_type": "code",
   "execution_count": 35,
   "id": "ed1192b0-2920-4856-b41b-581a79c9ec78",
   "metadata": {},
   "outputs": [],
   "source": [
    "alternative1 = lambda x : np.real( \n",
    "  np.nan_to_num(np.arctan(np.emath.sqrt(x**2-1))/np.emath.sqrt(x**2-1),nan=1.))"
   ]
  },
  {
   "cell_type": "code",
   "execution_count": 36,
   "id": "9ed7ceac-30ec-4e79-8dc5-fc511edad92e",
   "metadata": {},
   "outputs": [],
   "source": [
    "alternative2 = lambda x : np.real(np.arctan(np.emath.sqrt(x**2-1))/np.emath.sqrt(x**2-1))"
   ]
  },
  {
   "cell_type": "code",
   "execution_count": 37,
   "id": "d5fbfb15-1df1-4a1a-aa14-3ec8929e322a",
   "metadata": {},
   "outputs": [
    {
     "data": {
      "text/plain": [
       "array([ 0.00000000e+00, -2.22044605e-16,  0.00000000e+00,  0.00000000e+00,\n",
       "        0.00000000e+00,  0.00000000e+00,  1.11022302e-16,  1.11022302e-16,\n",
       "        0.00000000e+00,  1.11022302e-16,  0.00000000e+00])"
      ]
     },
     "execution_count": 37,
     "metadata": {},
     "output_type": "execute_result"
    }
   ],
   "source": [
    "form(x) - alternative1(x)"
   ]
  },
  {
   "cell_type": "code",
   "execution_count": 38,
   "id": "825f6c72-8843-4770-bacb-554ed4c6de7f",
   "metadata": {},
   "outputs": [
    {
     "data": {
      "text/plain": [
       "array([ 0.00000000e+00, -2.22044605e-16,  0.00000000e+00,  0.00000000e+00,\n",
       "        0.00000000e+00,             nan,  1.11022302e-16,  1.11022302e-16,\n",
       "        0.00000000e+00,  1.11022302e-16,  0.00000000e+00])"
      ]
     },
     "execution_count": 38,
     "metadata": {},
     "output_type": "execute_result"
    }
   ],
   "source": [
    "form(x) - alternative2(x)"
   ]
  },
  {
   "cell_type": "code",
   "execution_count": 39,
   "id": "4f90ac61-af49-4a25-9abe-648e4f44d273",
   "metadata": {},
   "outputs": [
    {
     "name": "stdout",
     "output_type": "stream",
     "text": [
      "29.5 µs ± 1.6 µs per loop (mean ± std. dev. of 7 runs, 10000 loops each)\n"
     ]
    }
   ],
   "source": [
    "%%timeit\n",
    "form(x)"
   ]
  },
  {
   "cell_type": "code",
   "execution_count": 40,
   "id": "abe6301d-acd3-424a-acd0-13c9e912f2c4",
   "metadata": {},
   "outputs": [
    {
     "name": "stdout",
     "output_type": "stream",
     "text": [
      "62.8 µs ± 90.1 ns per loop (mean ± std. dev. of 7 runs, 10000 loops each)\n"
     ]
    }
   ],
   "source": [
    "%%timeit\n",
    "alternative1(x)"
   ]
  },
  {
   "cell_type": "code",
   "execution_count": 41,
   "id": "acfca7ea-dd16-48ab-97c8-dabc6c497558",
   "metadata": {},
   "outputs": [
    {
     "name": "stdout",
     "output_type": "stream",
     "text": [
      "34.6 µs ± 101 ns per loop (mean ± std. dev. of 7 runs, 10000 loops each)\n"
     ]
    }
   ],
   "source": [
    "%%timeit\n",
    "alternative2(x)"
   ]
  },
  {
   "cell_type": "markdown",
   "id": "0fd37c92-518b-48b9-8716-2fef87cac053",
   "metadata": {},
   "source": [
    "## Interpolate!"
   ]
  },
  {
   "cell_type": "code",
   "execution_count": 54,
   "id": "1319595e-9b15-4b97-b3eb-f592e15fb51a",
   "metadata": {},
   "outputs": [],
   "source": [
    "from scipy.interpolate import interp1d\n",
    "xx = np.linspace(1e-2,100,1000000)\n",
    "alternative3 = interp1d(xx,form(xx))"
   ]
  },
  {
   "cell_type": "code",
   "execution_count": 55,
   "id": "ded47dfa-bc8a-4a7f-9d4b-c81b77c0514e",
   "metadata": {},
   "outputs": [
    {
     "data": {
      "text/plain": [
       "array([-5.06347786e-09, -3.37922823e-09, -2.17946794e-09, -1.29116140e-09,\n",
       "       -6.15250295e-10, -9.05677755e-11, -2.75434897e-10, -4.54944526e-10,\n",
       "       -5.18973198e-10, -5.12753395e-10, -4.64330130e-10])"
      ]
     },
     "execution_count": 55,
     "metadata": {},
     "output_type": "execute_result"
    }
   ],
   "source": [
    "form(x)-alternative3(x)"
   ]
  },
  {
   "cell_type": "code",
   "execution_count": 57,
   "id": "7697ae33-1fa5-4c2a-9813-06229d74af00",
   "metadata": {},
   "outputs": [
    {
     "name": "stdout",
     "output_type": "stream",
     "text": [
      "19.5 µs ± 404 ns per loop (mean ± std. dev. of 7 runs, 100000 loops each)\n"
     ]
    }
   ],
   "source": [
    "%%timeit\n",
    "alternative3(x)"
   ]
  },
  {
   "cell_type": "code",
   "execution_count": null,
   "id": "057fd834-17df-4ce9-81b5-396e363f408b",
   "metadata": {},
   "outputs": [],
   "source": []
  }
 ],
 "metadata": {
  "kernelspec": {
   "display_name": "Python 3",
   "language": "python",
   "name": "python3"
  },
  "language_info": {
   "codemirror_mode": {
    "name": "ipython",
    "version": 3
   },
   "file_extension": ".py",
   "mimetype": "text/x-python",
   "name": "python",
   "nbconvert_exporter": "python",
   "pygments_lexer": "ipython3",
   "version": "3.7.13"
  }
 },
 "nbformat": 4,
 "nbformat_minor": 5
}
