{
 "cells": [
  {
   "cell_type": "markdown",
   "id": "b5651df8-a5a3-4844-b38e-dd0e8872737a",
   "metadata": {},
   "source": [
    "# Astropy Sky Coordinates"
   ]
  },
  {
   "cell_type": "code",
   "execution_count": 1,
   "id": "31cede3a-eeda-4694-98f8-178ce9abe0e9",
   "metadata": {},
   "outputs": [
    {
     "name": "stdout",
     "output_type": "stream",
     "text": [
      "Populating the interactive namespace from numpy and matplotlib\n"
     ]
    }
   ],
   "source": [
    "%pylab inline"
   ]
  },
  {
   "cell_type": "code",
   "execution_count": 2,
   "id": "4e1c43fc-6d55-47ae-8fe3-36b481500672",
   "metadata": {},
   "outputs": [],
   "source": [
    "from astropy.coordinates import SkyCoord"
   ]
  },
  {
   "cell_type": "code",
   "execution_count": 5,
   "id": "16227713-0442-41d8-86b3-d757ae0013d3",
   "metadata": {},
   "outputs": [],
   "source": [
    "coord=SkyCoord(ra=0,dec=0,unit='deg')"
   ]
  },
  {
   "cell_type": "code",
   "execution_count": 20,
   "id": "50bbd52e-eb59-4b03-8912-f1b33c132d38",
   "metadata": {},
   "outputs": [
    {
     "data": {
      "text/plain": [
       "0.0"
      ]
     },
     "execution_count": 20,
     "metadata": {},
     "output_type": "execute_result"
    }
   ],
   "source": [
    "coord.ra.hms.s"
   ]
  },
  {
   "cell_type": "code",
   "execution_count": 9,
   "id": "6633f72e-7281-476a-854d-3607d3a4dac6",
   "metadata": {},
   "outputs": [],
   "source": [
    "candidate_list = [\n",
    "  '1st', 179.87434, 30.127678,\n",
    "  '2nd', 173.88843, 13.806708,\n",
    "  '3rd', 175.03497, -3.57553,\n",
    "  '4th', 181.2812, 42.917046,\n",
    "  '5th', 153.13104, 58.224716,\n",
    "  \n",
    "]"
   ]
  },
  {
   "cell_type": "code",
   "execution_count": null,
   "id": "9fe08eb0-820b-493d-bf37-28fafd111f5c",
   "metadata": {},
   "outputs": [],
   "source": [
    "for candidate in candidate_list:\n",
    "  coord = SkyCoord(ra=candidate[1],ra=candidate[2],unit='deg')\n",
    "  print(f\"{coord.ra.hms.h} {coord.ra.hms.m} {coord.ra.hms.s}\")"
   ]
  }
 ],
 "metadata": {
  "kernelspec": {
   "display_name": "Python 3 (ipykernel)",
   "language": "python",
   "name": "python3"
  },
  "language_info": {
   "codemirror_mode": {
    "name": "ipython",
    "version": 3
   },
   "file_extension": ".py",
   "mimetype": "text/x-python",
   "name": "python",
   "nbconvert_exporter": "python",
   "pygments_lexer": "ipython3",
   "version": "3.9.18"
  }
 },
 "nbformat": 4,
 "nbformat_minor": 5
}
