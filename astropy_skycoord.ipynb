{
 "cells": [
  {
   "cell_type": "markdown",
   "id": "b5651df8-a5a3-4844-b38e-dd0e8872737a",
   "metadata": {},
   "source": [
    "# Astropy Sky Coordinates"
   ]
  },
  {
   "cell_type": "code",
   "execution_count": 1,
   "id": "31cede3a-eeda-4694-98f8-178ce9abe0e9",
   "metadata": {},
   "outputs": [
    {
     "name": "stdout",
     "output_type": "stream",
     "text": [
      "Populating the interactive namespace from numpy and matplotlib\n"
     ]
    }
   ],
   "source": [
    "%pylab inline"
   ]
  },
  {
   "cell_type": "code",
   "execution_count": 2,
   "id": "4e1c43fc-6d55-47ae-8fe3-36b481500672",
   "metadata": {},
   "outputs": [],
   "source": [
    "from astropy.coordinates import SkyCoord"
   ]
  },
  {
   "cell_type": "code",
   "execution_count": 5,
   "id": "16227713-0442-41d8-86b3-d757ae0013d3",
   "metadata": {},
   "outputs": [],
   "source": [
    "coord=SkyCoord(ra=0,dec=0,unit='deg')"
   ]
  },
  {
   "cell_type": "code",
   "execution_count": 20,
   "id": "50bbd52e-eb59-4b03-8912-f1b33c132d38",
   "metadata": {},
   "outputs": [
    {
     "data": {
      "text/plain": [
       "0.0"
      ]
     },
     "execution_count": 20,
     "metadata": {},
     "output_type": "execute_result"
    }
   ],
   "source": [
    "coord.ra.hms.s"
   ]
  },
  {
   "cell_type": "code",
   "execution_count": 10,
   "id": "d226525a-a201-4a57-b848-12ff6c41678e",
   "metadata": {},
   "outputs": [
    {
     "ename": "AttributeError",
     "evalue": "Latitude instance has no attribute 'hr'",
     "output_type": "error",
     "traceback": [
      "\u001b[0;31m---------------------------------------------------------------------------\u001b[0m",
      "\u001b[0;31mAttributeError\u001b[0m                            Traceback (most recent call last)",
      "\u001b[0;32m<ipython-input-10-6997523335c0>\u001b[0m in \u001b[0;36m<module>\u001b[0;34m\u001b[0m\n\u001b[0;32m----> 1\u001b[0;31m \u001b[0mcoord\u001b[0m\u001b[0;34m.\u001b[0m\u001b[0mdec\u001b[0m\u001b[0;34m.\u001b[0m\u001b[0mhr\u001b[0m\u001b[0;34m\u001b[0m\u001b[0;34m\u001b[0m\u001b[0m\n\u001b[0m",
      "\u001b[0;32m~/miniconda3/lib/python3.7/site-packages/astropy/units/quantity.py\u001b[0m in \u001b[0;36m__getattr__\u001b[0;34m(self, attr)\u001b[0m\n\u001b[1;32m    865\u001b[0m         \u001b[0;32mif\u001b[0m \u001b[0mvalue\u001b[0m \u001b[0;32mis\u001b[0m \u001b[0;32mNone\u001b[0m\u001b[0;34m:\u001b[0m\u001b[0;34m\u001b[0m\u001b[0;34m\u001b[0m\u001b[0m\n\u001b[1;32m    866\u001b[0m             raise AttributeError(\n\u001b[0;32m--> 867\u001b[0;31m                 f\"{self.__class__.__name__} instance has no attribute '{attr}'\")\n\u001b[0m\u001b[1;32m    868\u001b[0m         \u001b[0;32melse\u001b[0m\u001b[0;34m:\u001b[0m\u001b[0;34m\u001b[0m\u001b[0;34m\u001b[0m\u001b[0m\n\u001b[1;32m    869\u001b[0m             \u001b[0;32mreturn\u001b[0m \u001b[0mvalue\u001b[0m\u001b[0;34m\u001b[0m\u001b[0;34m\u001b[0m\u001b[0m\n",
      "\u001b[0;31mAttributeError\u001b[0m: Latitude instance has no attribute 'hr'"
     ]
    }
   ],
   "source": [
    "coord.dec"
   ]
  },
  {
   "cell_type": "code",
   "execution_count": 9,
   "id": "6633f72e-7281-476a-854d-3607d3a4dac6",
   "metadata": {},
   "outputs": [],
   "source": [
    "candidate_list = [\n",
    "  '1st', 179.87434, 30.127678,\n",
    "  '2nd', 173.88843, 13.806708,\n",
    "  '3rd', 175.03497, -3.57553,\n",
    "  '4th', 181.2812, 42.917046,\n",
    "  '5th', 153.13104, 58.224716,\n",
    "  \n",
    "]"
   ]
  },
  {
   "cell_type": "code",
   "execution_count": null,
   "id": "9fe08eb0-820b-493d-bf37-28fafd111f5c",
   "metadata": {},
   "outputs": [],
   "source": [
    "for candidate in candidate_list:\n",
    "  coord = SkyCoord(ra=candidate[1],ra=candidate[2],unit='deg')\n",
    "  print(f\"{coord.ra.hms.h} {coord.ra.hms.m} {coord.ra.hms.s}\")"
   ]
  }
 ],
 "metadata": {
  "kernelspec": {
   "display_name": "Python 3",
   "language": "python",
   "name": "python3"
  },
  "language_info": {
   "codemirror_mode": {
    "name": "ipython",
    "version": 3
   },
   "file_extension": ".py",
   "mimetype": "text/x-python",
   "name": "python",
   "nbconvert_exporter": "python",
   "pygments_lexer": "ipython3",
   "version": "3.7.13"
  }
 },
 "nbformat": 4,
 "nbformat_minor": 5
}
