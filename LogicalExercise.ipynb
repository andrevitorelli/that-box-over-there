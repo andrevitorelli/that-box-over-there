{
 "cells": [
  {
   "cell_type": "markdown",
   "id": "4366fe08-6e37-4f81-b482-2be3f508f689",
   "metadata": {},
   "source": [
    "# Small logic exercise from twitter"
   ]
  },
  {
   "cell_type": "markdown",
   "id": "ee1623a3-02c6-41cf-bced-ab0e95465168",
   "metadata": {},
   "source": [
    "Not the easiest way to solve it, but serves as a toolbox for python logic..."
   ]
  },
  {
   "cell_type": "code",
   "execution_count": 1,
   "id": "2244322c-0cf9-47ef-84dd-8b9679cf5dc2",
   "metadata": {},
   "outputs": [
    {
     "name": "stdout",
     "output_type": "stream",
     "text": [
      "394\n"
     ]
    }
   ],
   "source": [
    "for i in range(10):\n",
    "  for j in range(10):\n",
    "    for k in range(10):\n",
    "      condition1 = i==2 or j==9 or k==1 #291: one number in correct position\n",
    "      condition2 = any([x==2 for x in [i,j,k]])^any([x==4 for x in [i,j,k]])^any([x==5 for x in [i,j,k]]) and not (i==2 or j==4 or k==5) #245: one number out of place\n",
    "      condition3 = (any([x==4 for x in [i,j,k]]) +any([x==6 for x in [i,j,k]]) + any([x==3 for x in [i,j,k]]) == 2) and not (i==4 or j==6 or k==3)  #463: two numbers in wrong places\n",
    "      condition4 = any(x not in [i,j,k] for x in [5,7,8]) #578: no numbers in list\n",
    "      condition5 = any([x==5 for x in [i,j,k]])^any([x==6 for x in [i,j,k]])^any([x==9 for x in [i,j,k]]) and not (i==5 or j==6 or k==9) #569: one number, but out of place\n",
    "      if condition1 and condition2 and condition3 and condition4 and condition5:\n",
    "        print(f\"{i}{j}{k}\")"
   ]
  },
  {
   "cell_type": "code",
   "execution_count": null,
   "id": "02e38027-5801-4aca-95ad-010224454839",
   "metadata": {},
   "outputs": [],
   "source": []
  }
 ],
 "metadata": {
  "kernelspec": {
   "display_name": "Python 3 (ipykernel)",
   "language": "python",
   "name": "python3"
  },
  "language_info": {
   "codemirror_mode": {
    "name": "ipython",
    "version": 3
   },
   "file_extension": ".py",
   "mimetype": "text/x-python",
   "name": "python",
   "nbconvert_exporter": "python",
   "pygments_lexer": "ipython3",
   "version": "3.11.5"
  }
 },
 "nbformat": 4,
 "nbformat_minor": 5
}
