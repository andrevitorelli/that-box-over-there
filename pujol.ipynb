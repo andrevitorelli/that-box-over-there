{
 "cells": [
  {
   "cell_type": "markdown",
   "id": "72d49b5b-3d99-4f5c-beb5-d8a861773c52",
   "metadata": {},
   "source": [
    "# Pujol-like shear Calibration"
   ]
  },
  {
   "cell_type": "code",
   "execution_count": 1,
   "id": "6092cf07-7cff-47c9-a9d5-ba0a452e2226",
   "metadata": {
    "tags": []
   },
   "outputs": [
    {
     "name": "stdout",
     "output_type": "stream",
     "text": [
      "%pylab is deprecated, use %matplotlib inline and import the required libraries.\n",
      "Populating the interactive namespace from numpy and matplotlib\n"
     ]
    }
   ],
   "source": [
    "%pylab inline"
   ]
  },
  {
   "cell_type": "code",
   "execution_count": 2,
   "id": "854e7ecd-e8eb-409a-9b5b-86a5ca46fccc",
   "metadata": {
    "tags": []
   },
   "outputs": [],
   "source": [
    "import galsim"
   ]
  },
  {
   "cell_type": "markdown",
   "id": "db137c75-5d14-45fe-b2f1-e9dc0d42288d",
   "metadata": {},
   "source": [
    "## Generate Galaxies"
   ]
  },
  {
   "cell_type": "code",
   "execution_count": 3,
   "id": "2b1c5694-7e91-47b7-8bb3-a942f3840435",
   "metadata": {
    "tags": []
   },
   "outputs": [],
   "source": [
    "def generate_gal(i):\n",
    "  #cat\n",
    "  cat = galsim.COSMOSCatalog(sample=\"25.2\")\n",
    "  gal = cat.makeGalaxy(i, gal_type='parametric')\n",
    "  gal_mag = cat.param_cat['mag_auto'][cat.orig_index[i]]  \n",
    "  ##cfis photometry\n",
    "  mag_zp = 32\n",
    "  gal_flux = 10**(-(gal_mag-mag_zp)/2.5)\n",
    "  gal = gal.withFlux(gal_flux)\n",
    "  return gal"
   ]
  },
  {
   "cell_type": "markdown",
   "id": "141f05a5-8c71-40e2-9ae7-e083d1d070c4",
   "metadata": {},
   "source": [
    "## Make noise images"
   ]
  },
  {
   "cell_type": "code",
   "execution_count": 4,
   "id": "3c50e290-40fd-4602-8793-8a8eaec31beb",
   "metadata": {
    "tags": []
   },
   "outputs": [],
   "source": [
    "def noise_image(size=51,sky_level=400):\n",
    "  rng = np.random.RandomState(1)\n",
    "  noise=rng.normal(loc=sky_level,scale=np.sqrt(sky_level),size=[size,size])\n",
    "  return noise "
   ]
  },
  {
   "cell_type": "markdown",
   "id": "9cb185dc-facd-46d5-8e90-b3efe4c05a34",
   "metadata": {},
   "source": [
    "## Transform array images into GalSim objects"
   ]
  },
  {
   "cell_type": "code",
   "execution_count": 5,
   "id": "dcaa9a31-360b-4129-a596-ede8e3ffb16c",
   "metadata": {},
   "outputs": [],
   "source": [
    "def galsimator(image,flux=1.0,scale=0.1):\n",
    "  galsim_img = galsim.InterpolatedImage(image,x_interpolant='lanczos14')\n",
    "  return galsim_img  "
   ]
  },
  {
   "cell_type": "markdown",
   "id": "f8e7cc00-8876-4d61-a030-52dd5885f42f",
   "metadata": {},
   "source": [
    "## Create a basic metacal implementation"
   ]
  },
  {
   "cell_type": "code",
   "execution_count": 6,
   "id": "4407bd27-7fa0-4c77-b3c2-49983058c110",
   "metadata": {
    "tags": []
   },
   "outputs": [
    {
     "ename": "SyntaxError",
     "evalue": "invalid syntax (162084492.py, line 15)",
     "output_type": "error",
     "traceback": [
      "\u001b[0;36m  Cell \u001b[0;32mIn [6], line 15\u001b[0;36m\u001b[0m\n\u001b[0;31m    rotated_sheared_noise = sheared_noise.\u001b[0m\n\u001b[0m                                          ^\u001b[0m\n\u001b[0;31mSyntaxError\u001b[0m\u001b[0;31m:\u001b[0m invalid syntax\n"
     ]
    }
   ],
   "source": [
    "def get_metacal_type(deconv_gal,step,type_name):\n",
    "  if type_name == \"noshear\":\n",
    "    return deconv_gal.shear(0,0)\n",
    "  elif type_name == \"1p\":\n",
    "    return deconv_gal.shear(step,0) \n",
    "  elif type_name == \"2p\":\n",
    "    return deconv_gal.shear(0,step)\n",
    "  elif type_name == \"1m\":\n",
    "    return deconv_gal.shear(-step,0)\n",
    "  elif type_name == \"2m\":\n",
    "    return deconv_gal.shear(0,-step)\n",
    "  \n",
    "def get_fixnoise(noise_image,step,type_name):\n",
    "  sheared_noise = get_metacal_type(noise_image,step,type_name)\n",
    "  rotated_sheared_noise = sheared_noise.\n",
    "  return rotated_sheared_noise\n",
    "\n",
    "def get_all_metacal(\n",
    "  gal,\n",
    "  psf,\n",
    "  reconv_psf,\n",
    "  noise_image=None,\n",
    "  types=['noshear','1p','1m','2p','2m'],\n",
    "  step=0.01\n",
    "):\n",
    "  \n",
    "  inv_psf = galsim.Deconvolve(psf)\n",
    "  deconv_gal = galsim.Convolve([gal,inv_psf])\n",
    "  obsdict = {}\n",
    "  for t in types:\n",
    "    sheared_gal = get_metacal_type(deconv_gal,step,type_name=t)\n",
    "    reconv_galaxy = galsim.Convolve([sheared_gal,reconv_psf])\n",
    "    obsdict +={t: }\n",
    "  \n",
    "  if fixnoise== True:\n",
    "  for t in types:\n",
    "    sheared_gal = get_metacal_type(deconv_gal,step,type_name=t)\n",
    "    reconv_galaxy = galsim.Convolve([sheared_gal,reconv_psf])\n",
    "    obsdict +={t: }\n",
    "    \n",
    "  return obsdict "
   ]
  },
  {
   "cell_type": "code",
   "execution_count": 7,
   "id": "8dd200cd-b7da-4b1b-a7af-e798aa3c06d6",
   "metadata": {},
   "outputs": [],
   "source": [
    "def pujol_sims(gal_model,psf_model,step=0.02):\n",
    "  gal1p = gal.shear(step,0)\n",
    "  gal2p = gal.shear(0,step)\n",
    "  \n",
    "  #noshear\n",
    "  obsns = galsim.Convolve([gal,psf_model])\n",
    "  #1p\n",
    "  obs1p = galsim.Convolve([gal1p,psf_model])\n",
    "  #2p\n",
    "  obs2p = galsim.Convolve([gal2p,psf_model])\n",
    "    \n",
    "  pujobsdict = {\n",
    "    'noshear':obsns,\n",
    "    '1p':obs1p,\n",
    "    '2p':obs2p,  \n",
    "  }  \n",
    "  return  pujobsdict"
   ]
  },
  {
   "cell_type": "code",
   "execution_count": 8,
   "id": "0959b086-985b-4693-bbb6-4ca7657e0aa3",
   "metadata": {},
   "outputs": [],
   "source": [
    "def apply_noise(pujobsdict,noise):\n",
    "  for key in pujobsdict.keys():\n",
    "    pujobsdict[key] += noise\n",
    "  return pujobsdict"
   ]
  },
  {
   "cell_type": "code",
   "execution_count": 9,
   "id": "b163b129-6bee-4b48-8c63-ddf18ad23cec",
   "metadata": {},
   "outputs": [],
   "source": [
    "def measure_ellipticities(obsdict,method):\n",
    "  resdict = {}\n",
    "  for key in obsdict.keys():\n",
    "    resdict += {key: method(pujobsdict[key])}\n",
    "  return resdict"
   ]
  },
  {
   "cell_type": "code",
   "execution_count": 10,
   "id": "5e6056ea-45ea-448f-bbea-34b8999223c3",
   "metadata": {},
   "outputs": [],
   "source": [
    "def get_metacal_response(resdict,shear_type = 'g'):\n",
    "  '''gets the shear response for ngmix-like results'''\n",
    "\n",
    "  #noshear\n",
    "  g0s = np.array(resdict['noshear'][shear_type])\n",
    "  \n",
    "  #shear\n",
    "  g1p = np.array(resdict['1p'][shear_type])\n",
    "  g1m = np.array(resdict['1m'][shear_type])\n",
    "  g2p = np.array(resdict['2p'][shear_type])\n",
    "  g2m = np.array(resdict['2m'][shear_type])    \n",
    "  \n",
    "  R11 = (g1p[0]-g1m[0])/(2*step)\n",
    "  R21 = (g1p[1]-g1m[1])/(2*step) \n",
    "  R12 = (g2p[0]-g2m[0])/(2*step)\n",
    "  R22 = (g2p[1]-g2m[1])/(2*step)\n",
    "  \n",
    "  R = np.array(\n",
    "    [[R11,R12],\n",
    "     [R21,R22]])\n",
    "\n",
    "  ellip_dict = {\n",
    "    'noshear':g0s,\n",
    "    '1p':g1p,\n",
    "    '1m':g1m,\n",
    "    '2p':g2p,\n",
    "    '2m':g2m,  \n",
    "  } \n",
    "      \n",
    "  return ellip_dict, R\n",
    "\n",
    "def get_pujol_response(resdict):\n",
    "\n",
    "  #noshear\n",
    "  g0s = np.array(resdict['noshear'])\n",
    "  \n",
    "  #shear\n",
    "  g1p = np.array(resdict['1p'])\n",
    "  g2p = np.array(resdict['2p'])   \n",
    "  \n",
    "  R11 = (g1p[0]-g0s[0])/(2*step)\n",
    "  R21 = (g1p[1]-g0s[1])/(2*step) \n",
    "  R12 = (g2p[0]-g0s[0])/(2*step)\n",
    "  R22 = (g2p[1]-g0s[1])/(2*step)\n",
    "  \n",
    "  R = np.array(\n",
    "    [[R11,R12],\n",
    "     [R21,R22]])\n",
    "\n",
    "  ellip_dict = {\n",
    "    'noshear':g0s,\n",
    "    '1p':g1p,\n",
    "    '1m':g1m,\n",
    "    '2p':g2p,\n",
    "    '2m':g2m,  \n",
    "  } \n",
    "      \n",
    "  return ellip_dict, R"
   ]
  }
 ],
 "metadata": {
  "kernelspec": {
   "display_name": "Python 3 (ipykernel)",
   "language": "python",
   "name": "python3"
  },
  "language_info": {
   "codemirror_mode": {
    "name": "ipython",
    "version": 3
   },
   "file_extension": ".py",
   "mimetype": "text/x-python",
   "name": "python",
   "nbconvert_exporter": "python",
   "pygments_lexer": "ipython3",
   "version": "3.9.13"
  }
 },
 "nbformat": 4,
 "nbformat_minor": 5
}
