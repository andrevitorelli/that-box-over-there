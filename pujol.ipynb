{
 "cells": [
  {
   "cell_type": "markdown",
   "id": "72d49b5b-3d99-4f5c-beb5-d8a861773c52",
   "metadata": {},
   "source": [
    "# Pujol-like shear Calibration"
   ]
  },
  {
   "cell_type": "code",
   "execution_count": 1,
   "id": "6092cf07-7cff-47c9-a9d5-ba0a452e2226",
   "metadata": {
    "tags": []
   },
   "outputs": [
    {
     "name": "stdout",
     "output_type": "stream",
     "text": [
      "%pylab is deprecated, use %matplotlib inline and import the required libraries.\n",
      "Populating the interactive namespace from numpy and matplotlib\n"
     ]
    }
   ],
   "source": [
    "%pylab inline"
   ]
  },
  {
   "cell_type": "code",
   "execution_count": 2,
   "id": "854e7ecd-e8eb-409a-9b5b-86a5ca46fccc",
   "metadata": {
    "tags": []
   },
   "outputs": [],
   "source": [
    "import galsim"
   ]
  },
  {
   "cell_type": "markdown",
   "id": "db137c75-5d14-45fe-b2f1-e9dc0d42288d",
   "metadata": {},
   "source": [
    "## Generate Galaxies"
   ]
  },
  {
   "cell_type": "code",
   "execution_count": 3,
   "id": "2b1c5694-7e91-47b7-8bb3-a942f3840435",
   "metadata": {
    "tags": []
   },
   "outputs": [
    {
     "ename": "OSError",
     "evalue": "No RealGalaxy catalog found in /home/vitorelli/.local/lib/python3.9/site-packages/galsim/share/COSMOS_25.2_training_sample. Run the program galsim_download_cosmos -s 25.2 to download catalog and accompanying image files.",
     "output_type": "error",
     "traceback": [
      "\u001b[0;31m---------------------------------------------------------------------------\u001b[0m",
      "\u001b[0;31mOSError\u001b[0m                                   Traceback (most recent call last)",
      "Cell \u001b[0;32mIn [3], line 11\u001b[0m\n\u001b[1;32m      9\u001b[0m   gal \u001b[38;5;241m=\u001b[39m gal\u001b[38;5;241m.\u001b[39mwithFlux(gal_flux)\n\u001b[1;32m     10\u001b[0m   \u001b[38;5;28;01mreturn\u001b[39;00m gal\n\u001b[0;32m---> 11\u001b[0m \u001b[43mgenerate_gal\u001b[49m\u001b[43m(\u001b[49m\u001b[38;5;241;43m1\u001b[39;49m\u001b[43m)\u001b[49m\n",
      "Cell \u001b[0;32mIn [3], line 3\u001b[0m, in \u001b[0;36mgenerate_gal\u001b[0;34m(i)\u001b[0m\n\u001b[1;32m      1\u001b[0m \u001b[38;5;28;01mdef\u001b[39;00m \u001b[38;5;21mgenerate_gal\u001b[39m(i):\n\u001b[1;32m      2\u001b[0m   \u001b[38;5;66;03m#cat\u001b[39;00m\n\u001b[0;32m----> 3\u001b[0m   cat \u001b[38;5;241m=\u001b[39m \u001b[43mgalsim\u001b[49m\u001b[38;5;241;43m.\u001b[39;49m\u001b[43mCOSMOSCatalog\u001b[49m\u001b[43m(\u001b[49m\u001b[43msample\u001b[49m\u001b[38;5;241;43m=\u001b[39;49m\u001b[38;5;124;43m\"\u001b[39;49m\u001b[38;5;124;43m25.2\u001b[39;49m\u001b[38;5;124;43m\"\u001b[39;49m\u001b[43m)\u001b[49m\n\u001b[1;32m      4\u001b[0m   gal \u001b[38;5;241m=\u001b[39m cat\u001b[38;5;241m.\u001b[39mmakeGalaxy(i, gal_type\u001b[38;5;241m=\u001b[39m\u001b[38;5;124m'\u001b[39m\u001b[38;5;124mparametric\u001b[39m\u001b[38;5;124m'\u001b[39m)\n\u001b[1;32m      5\u001b[0m   gal_mag \u001b[38;5;241m=\u001b[39m cat\u001b[38;5;241m.\u001b[39mparam_cat[\u001b[38;5;124m'\u001b[39m\u001b[38;5;124mmag_auto\u001b[39m\u001b[38;5;124m'\u001b[39m][cat\u001b[38;5;241m.\u001b[39morig_index[i]]  \n",
      "File \u001b[0;32m~/.local/lib/python3.9/site-packages/galsim/galaxy_sample.py:886\u001b[0m, in \u001b[0;36mCOSMOSCatalog.__init__\u001b[0;34m(self, file_name, sample, dir, **kwargs)\u001b[0m\n\u001b[1;32m    883\u001b[0m \u001b[38;5;28;01mfrom\u001b[39;00m \u001b[38;5;21;01m.\u001b[39;00m\u001b[38;5;21;01mreal\u001b[39;00m \u001b[38;5;28;01mimport\u001b[39;00m _parse_files_dirs\n\u001b[1;32m    885\u001b[0m \u001b[38;5;66;03m# Parse the file name\u001b[39;00m\n\u001b[0;32m--> 886\u001b[0m file_name, _, use_sample \u001b[38;5;241m=\u001b[39m \u001b[43m_parse_files_dirs\u001b[49m\u001b[43m(\u001b[49m\u001b[43mfile_name\u001b[49m\u001b[43m,\u001b[49m\u001b[43m \u001b[49m\u001b[38;5;28;43mdir\u001b[39;49m\u001b[43m,\u001b[49m\u001b[43m \u001b[49m\u001b[43msample\u001b[49m\u001b[43m)\u001b[49m\n\u001b[1;32m    888\u001b[0m \u001b[38;5;28;01mif\u001b[39;00m use_sample \u001b[38;5;241m==\u001b[39m \u001b[38;5;124m\"\u001b[39m\u001b[38;5;124m23.5\u001b[39m\u001b[38;5;124m\"\u001b[39m:\n\u001b[1;32m    889\u001b[0m     cut_ratio \u001b[38;5;241m=\u001b[39m \u001b[38;5;241m0.2\u001b[39m\n",
      "File \u001b[0;32m~/.local/lib/python3.9/site-packages/galsim/real.py:870\u001b[0m, in \u001b[0;36m_parse_files_dirs\u001b[0;34m(file_name, image_dir, sample)\u001b[0m\n\u001b[1;32m    868\u001b[0m             \u001b[38;5;28;01mraise\u001b[39;00m GalSimValueError(\u001b[38;5;124m\"\u001b[39m\u001b[38;5;124mSample name not recognized.\u001b[39m\u001b[38;5;124m\"\u001b[39m,use_sample, (\u001b[38;5;124m'\u001b[39m\u001b[38;5;124m23.5\u001b[39m\u001b[38;5;124m'\u001b[39m, \u001b[38;5;124m'\u001b[39m\u001b[38;5;124m25.2\u001b[39m\u001b[38;5;124m'\u001b[39m))\n\u001b[1;32m    869\u001b[0m         \u001b[38;5;28;01melse\u001b[39;00m:\n\u001b[0;32m--> 870\u001b[0m             \u001b[38;5;28;01mraise\u001b[39;00m \u001b[38;5;167;01mOSError\u001b[39;00m(\u001b[38;5;124m'\u001b[39m\u001b[38;5;124mNo RealGalaxy catalog found in \u001b[39m\u001b[38;5;132;01m%s\u001b[39;00m\u001b[38;5;124m. Run the program \u001b[39m\u001b[38;5;124m'\u001b[39m\n\u001b[1;32m    871\u001b[0m                           \u001b[38;5;124m'\u001b[39m\u001b[38;5;124mgalsim_download_cosmos -s \u001b[39m\u001b[38;5;132;01m%s\u001b[39;00m\u001b[38;5;124m to download catalog and accompanying \u001b[39m\u001b[38;5;124m'\u001b[39m\n\u001b[1;32m    872\u001b[0m                           \u001b[38;5;124m'\u001b[39m\u001b[38;5;124mimage files.\u001b[39m\u001b[38;5;124m'\u001b[39m\u001b[38;5;241m%\u001b[39m(image_dir, use_sample))\n\u001b[1;32m    873\u001b[0m \u001b[38;5;28;01melif\u001b[39;00m image_dir \u001b[38;5;129;01mis\u001b[39;00m \u001b[38;5;28;01mNone\u001b[39;00m:\n\u001b[1;32m    874\u001b[0m     full_file_name \u001b[38;5;241m=\u001b[39m file_name\n",
      "\u001b[0;31mOSError\u001b[0m: No RealGalaxy catalog found in /home/vitorelli/.local/lib/python3.9/site-packages/galsim/share/COSMOS_25.2_training_sample. Run the program galsim_download_cosmos -s 25.2 to download catalog and accompanying image files."
     ]
    }
   ],
   "source": [
    "def generate_gal(i):\n",
    "  #cat\n",
    "  cat = galsim.COSMOSCatalog(sample=\"25.2\")\n",
    "  gal = cat.makeGalaxy(i, gal_type='parametric')\n",
    "  gal_mag = cat.param_cat['mag_auto'][cat.orig_index[i]]  \n",
    "  ##cfis photometry\n",
    "  mag_zp = 32\n",
    "  gal_flux = 10**(-(gal_mag-mag_zp)/2.5)\n",
    "  gal = gal.withFlux(gal_flux)\n",
    "  return gal\n",
    "generate_gal(1)"
   ]
  },
  {
   "cell_type": "markdown",
   "id": "141f05a5-8c71-40e2-9ae7-e083d1d070c4",
   "metadata": {},
   "source": [
    "## Make noise images"
   ]
  },
  {
   "cell_type": "code",
   "execution_count": null,
   "id": "3c50e290-40fd-4602-8793-8a8eaec31beb",
   "metadata": {
    "tags": []
   },
   "outputs": [],
   "source": [
    "def noise_image(size=51,sky_level=400):\n",
    "  rng = np.random.RandomState(1)\n",
    "  noise=rng.normal(loc=sky_level,scale=np.sqrt(sky_level),size=[size,size])\n",
    "  return noise "
   ]
  },
  {
   "cell_type": "markdown",
   "id": "9cb185dc-facd-46d5-8e90-b3efe4c05a34",
   "metadata": {},
   "source": [
    "## Transform array images into GalSim objects"
   ]
  },
  {
   "cell_type": "code",
   "execution_count": null,
   "id": "dcaa9a31-360b-4129-a596-ede8e3ffb16c",
   "metadata": {},
   "outputs": [],
   "source": [
    "def galsimator(image,flux=1.0,scale=0.1):\n",
    "  galsim_img = galsim.InterpolatedImage(image,x_interpolant='lanczos14')\n",
    "  return galsim_img  "
   ]
  },
  {
   "cell_type": "markdown",
   "id": "f8e7cc00-8876-4d61-a030-52dd5885f42f",
   "metadata": {},
   "source": [
    "## Create a basic metacal implementation"
   ]
  },
  {
   "cell_type": "code",
   "execution_count": null,
   "id": "4407bd27-7fa0-4c77-b3c2-49983058c110",
   "metadata": {},
   "outputs": [],
   "source": [
    "def get_metacal_type(deconv_gal,step,type_name):\n",
    "  if type_name == \"noshear\":\n",
    "    return deconv_gal.shear(0,0)\n",
    "  elif type_name == \"1p\":\n",
    "    return deconv_gal.shear(step,0) \n",
    "  elif type_name == \"2p\":\n",
    "    return deconv_gal.shear(0,step)\n",
    "  elif type_name == \"1m\":\n",
    "    return deconv_gal.shear(-step,0)\n",
    "  elif type_name == \"2m\":\n",
    "    return deconv_gal.shear(0,-step)\n",
    "  \n",
    "def get_fixnoise(noise_image,step,type_name):\n",
    "  sheared_noise = get_metacal_type(noise_image,step,type_name)\n",
    "  rotated_sheared_noise = sheared_noise.\n",
    "  return rotated_sheared_noise\n",
    "\n",
    "def get_all_metacal(\n",
    "  gal,\n",
    "  psf,\n",
    "  reconv_psf,\n",
    "  noise_image=None,\n",
    "  types=['noshear','1p','1m','2p','2m'],\n",
    "  step=0.01\n",
    "):\n",
    "  \n",
    "  inv_psf = galsim.Deconvolve(psf)\n",
    "  deconv_gal = galsim.Convolve([gal,inv_psf])\n",
    "  obsdict = {}\n",
    "  for t in types:\n",
    "    sheared_gal = get_metacal_type(deconv_gal,step,type_name=t)\n",
    "    reconv_galaxy = galsim.Convolve([sheared_gal,reconv_psf])\n",
    "    obsdict +={t: }\n",
    "  \n",
    "  if fixnoise== True:\n",
    "  for t in types:\n",
    "    sheared_gal = get_metacal_type(deconv_gal,step,type_name=t)\n",
    "    reconv_galaxy = galsim.Convolve([sheared_gal,reconv_psf])\n",
    "    obsdict +={t: }\n",
    "    \n",
    "  return obsdict "
   ]
  },
  {
   "cell_type": "code",
   "execution_count": null,
   "id": "8dd200cd-b7da-4b1b-a7af-e798aa3c06d6",
   "metadata": {},
   "outputs": [],
   "source": [
    "def pujol_sims(gal_model,psf_model,step=0.02):\n",
    "  gal1p = gal.shear(step,0)\n",
    "  gal2p = gal.shear(0,step)\n",
    "  \n",
    "  #noshear\n",
    "  obsns = galsim.Convolve([gal,psf_model])\n",
    "  #1p\n",
    "  obs1p = galsim.Convolve([gal1p,psf_model])\n",
    "  #2p\n",
    "  obs2p = galsim.Convolve([gal2p,psf_model])\n",
    "    \n",
    "  pujobsdict = {\n",
    "    'noshear':obsns,\n",
    "    '1p':obs1p,\n",
    "    '2p':obs2p,  \n",
    "  }\n",
    "  \n",
    "  return  pujobsdict"
   ]
  },
  {
   "cell_type": "code",
   "execution_count": null,
   "id": "0959b086-985b-4693-bbb6-4ca7657e0aa3",
   "metadata": {},
   "outputs": [],
   "source": [
    "def apply_noise(pujobsdict,noise):\n",
    "  for key in pujobsdict.keys():\n",
    "    pujobsdict[key] += noise\n",
    "  return pujobsdict"
   ]
  },
  {
   "cell_type": "code",
   "execution_count": null,
   "id": "b163b129-6bee-4b48-8c63-ddf18ad23cec",
   "metadata": {},
   "outputs": [],
   "source": [
    "def measure_ellipticities(obsdict,method):\n",
    "  resdict = {}\n",
    "  for key in obsdict.keys():\n",
    "    resdict += {key: method(pujobsdict[key])}\n",
    "  return resdict"
   ]
  },
  {
   "cell_type": "code",
   "execution_count": null,
   "id": "5e6056ea-45ea-448f-bbea-34b8999223c3",
   "metadata": {},
   "outputs": [],
   "source": [
    "def get_pujol_response(resdict):\n",
    "\n",
    "  #noshear\n",
    "  g0s = np.array(resdict['noshear'])\n",
    "  \n",
    "  #shear\n",
    "  g1p = np.array(resdict['1p'])\n",
    "  g2p = np.array(resdict['2p'])   \n",
    "  \n",
    "  R11 = (g1p[0]-g0s[0])/(2*step)\n",
    "  R21 = (g1p[1]-g0s[1])/(2*step) \n",
    "  R12 = (g2p[0]-g0s[0])/(2*step)\n",
    "  R22 = (g2p[1]-g0s[1])/(2*step)\n",
    "  \n",
    "  R = np.array(\n",
    "    [[R11,R12],\n",
    "     [R21,R22]])\n",
    "\n",
    "  ellip_dict = {\n",
    "    'noshear':g0s,\n",
    "    '1p':g1p,\n",
    "    '1m':g1m,\n",
    "    '2p':g2p,\n",
    "    '2m':g2m,  \n",
    "  } \n",
    "      \n",
    "  return ellip_dict, R"
   ]
  },
  {
   "cell_type": "code",
   "execution_count": null,
   "id": "3cfe15e7-3b21-451e-987e-8177cf617fa3",
   "metadata": {},
   "outputs": [],
   "source": []
  }
 ],
 "metadata": {
  "kernelspec": {
   "display_name": "Python 3 (ipykernel)",
   "language": "python",
   "name": "python3"
  },
  "language_info": {
   "codemirror_mode": {
    "name": "ipython",
    "version": 3
   },
   "file_extension": ".py",
   "mimetype": "text/x-python",
   "name": "python",
   "nbconvert_exporter": "python",
   "pygments_lexer": "ipython3",
   "version": "3.9.13"
  }
 },
 "nbformat": 4,
 "nbformat_minor": 5
}
